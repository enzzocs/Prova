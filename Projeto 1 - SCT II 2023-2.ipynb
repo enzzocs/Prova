{
 "cells": [
  {
   "cell_type": "markdown",
   "metadata": {},
   "source": [
    "Instituto Federal de Santa Catarina  \n",
    "Curso de Engenharia Eletrônica  \n",
    "Disciplina: Sistemas de Controle II  \n",
    "Estudante: Enzzo Comassetto dos Santos \n",
    "Setembro de 2023\n",
    "\n",
    "## Projeto 1 - Controle Digital"
   ]
  },
  {
   "cell_type": "markdown",
   "metadata": {},
   "source": [
    "$ tp = 22,60\\,ms$  \n",
    "$ \\delta_1 = 112\\,mV$  \n",
    "$ \\delta_2 = 500\\,mV $"
   ]
  },
  {
   "cell_type": "code",
   "execution_count": 116,
   "metadata": {},
   "outputs": [],
   "source": [
    "import numpy as np\n",
    "import math\n",
    "import cmath\n",
    "import matplotlib.pyplot as plt\n",
    "from scipy import signal\n",
    "import control as ctrl\n",
    "#from control.matlab import step\n",
    "from control import matlab\n",
    "from IPython.display import display, Markdown, Latex, Image\n",
    "\n",
    "\n",
    "tp = 22.6e-3\n",
    "delta_1 = 112e-3\n",
    "delta_2 = 500e-3"
   ]
  },
  {
   "cell_type": "markdown",
   "metadata": {},
   "source": [
    "### $\\rightarrow$ $M_p$ - Sobressinal da planta\n",
    "\n",
    "### $M_p = \\frac{\\Delta_1 }{ \\Delta_2}$"
   ]
  },
  {
   "cell_type": "code",
   "execution_count": 117,
   "metadata": {},
   "outputs": [
    {
     "name": "stdout",
     "output_type": "stream",
     "text": [
      "Mp = 0.22400,  =  22.400000000000002 %\n"
     ]
    }
   ],
   "source": [
    "Mp = delta_1/delta_2\n",
    "print(f'Mp = {Mp:.5f}, '\" = \",Mp*100, \"%\")"
   ]
  },
  {
   "cell_type": "markdown",
   "metadata": {},
   "source": [
    "### $\\rightarrow$ $\\zeta $ - Fator de amortecimento original\n",
    "\n",
    "### $\\zeta = \\sqrt{\\frac{log(M_p)^2}{\\pi^2 + log(M_p^2)}}$"
   ]
  },
  {
   "cell_type": "code",
   "execution_count": 118,
   "metadata": {},
   "outputs": [
    {
     "name": "stdout",
     "output_type": "stream",
     "text": [
      "\n",
      "Zeta =  0.42996\n"
     ]
    }
   ],
   "source": [
    "zeta = np.sqrt((math.pow(np.log(Mp),2))/(math.pow(np.pi,2)+math.pow(np.log(Mp),2)))\n",
    "print(f'\\nZeta =  {zeta:.5f}')"
   ]
  },
  {
   "cell_type": "markdown",
   "metadata": {},
   "source": [
    "### $\\rightarrow$ $Wn$ - Frequência natural original\n",
    "\n",
    "### $W_n = \\frac{\\pi}{t_p*\\sqrt{1-\\zeta^2}}$"
   ]
  },
  {
   "cell_type": "code",
   "execution_count": 119,
   "metadata": {},
   "outputs": [
    {
     "name": "stdout",
     "output_type": "stream",
     "text": [
      "\n",
      "Wn = 153.9667\n"
     ]
    }
   ],
   "source": [
    "Wn = np.pi/(tp*np.sqrt(1-math.pow(zeta,2)))\n",
    "print(f'\\nWn = {Wn:.4f}')"
   ]
  },
  {
   "cell_type": "markdown",
   "metadata": {},
   "source": [
    "### $\\rightarrow$ $T_s$ - Tempo de acomodação\n",
    "### $T_s = \\frac{3}{\\zeta*W_n}$"
   ]
  },
  {
   "cell_type": "code",
   "execution_count": 120,
   "metadata": {},
   "outputs": [
    {
     "name": "stdout",
     "output_type": "stream",
     "text": [
      "Ts 5% = 45.3175 ms\n"
     ]
    }
   ],
   "source": [
    "Ts_5 = 3/ (zeta*Wn)\n",
    "Ts_5 = Ts_5 * 1000\n",
    "print(f'Ts 5% = {Ts_5:.4f} ms')"
   ]
  },
  {
   "cell_type": "markdown",
   "metadata": {},
   "source": [
    "### $\\rightarrow$ Resposta ao degrau do sistema contínuo"
   ]
  },
  {
   "cell_type": "code",
   "execution_count": 121,
   "metadata": {},
   "outputs": [
    {
     "name": "stdout",
     "output_type": "stream",
     "text": [
      "G(s) =\n"
     ]
    },
    {
     "data": {
      "text/latex": [
       "$$\\frac{2.371 \\times 10^{4}}{s^2 + 132.4 s + 2.371 \\times 10^{4}}$$"
      ],
      "text/plain": [
       "TransferFunction(array([23705.74677066]), array([1.00000000e+00, 1.32399047e+02, 2.37057468e+04]))"
      ]
     },
     "execution_count": 121,
     "metadata": {},
     "output_type": "execute_result"
    }
   ],
   "source": [
    "num = [pow(Wn,2)]\n",
    "den = [1, 2*zeta*Wn, pow(Wn,2)]\n",
    "Gs = ctrl.tf(num,den);\n",
    "print(\"G(s) =\") \n",
    "Gs"
   ]
  },
  {
   "cell_type": "code",
   "execution_count": 122,
   "metadata": {},
   "outputs": [
    {
     "data": {
      "image/png": "[encoded data removed]",
      "text/plain": [
       "<Figure size 432x288 with 1 Axes>"
      ]
     },
     "metadata": {
      "needs_background": "light"
     },
     "output_type": "display_data"
    }
   ],
   "source": [
    "tfinal = 90e-3;\n",
    "t = np.linspace(0, tfinal, 5000);\n",
    "yout = ctrl.step_response(Gs, t)[1];\n",
    "plt.plot(t, yout);\n",
    "plt.title(\"Resposta do sistema para uma entrada do tipo degrau unitário\");\n",
    "plt.grid();"
   ]
  },
  {
   "cell_type": "markdown",
   "metadata": {},
   "source": [
    "## $\\rightarrow$  Projeto do controlador digital"
   ]
  },
  {
   "cell_type": "code",
   "execution_count": 152,
   "metadata": {},
   "outputs": [
    {
     "name": "stdout",
     "output_type": "stream",
     "text": [
      "Ts 5% =  0.024 s\n",
      "MP =  10.0 %\n"
     ]
    }
   ],
   "source": [
    "ts = len(\"EnzzoComassettoDosSantos\")*10**-3\n",
    "print(\"Ts 5% = \", ts, \"s\")\n",
    "\n",
    "MP_2 = 2 * len(\"Enzzo\")/100\n",
    "print(\"MP = \", MP_2*100, \"%\")"
   ]
  },
  {
   "cell_type": "markdown",
   "metadata": {},
   "source": [
    "### $\\rightarrow$  Fator de Amortecimento"
   ]
  },
  {
   "cell_type": "markdown",
   "metadata": {},
   "source": [
    "### $\\zeta \\geq \\sqrt{\\frac{log(M_p)^2}{\\pi^2 + log(M_p^2)}}$"
   ]
  },
  {
   "cell_type": "code",
   "execution_count": 124,
   "metadata": {},
   "outputs": [
    {
     "name": "stdout",
     "output_type": "stream",
     "text": [
      "\n",
      "Zeta =  0.59116\n"
     ]
    }
   ],
   "source": [
    "zeta2 = np.sqrt((math.pow(np.log(MP_2),2))/(math.pow(np.pi,2)+math.pow(np.log(MP_2),2)))\n",
    "print(f'\\nZeta =  {zeta2:.5f}')"
   ]
  },
  {
   "cell_type": "markdown",
   "metadata": {},
   "source": [
    "$ \\zeta \\geq 0,59116 $"
   ]
  },
  {
   "cell_type": "code",
   "execution_count": 125,
   "metadata": {},
   "outputs": [],
   "source": [
    "zeta2 = 0.7"
   ]
  },
  {
   "cell_type": "markdown",
   "metadata": {},
   "source": [
    "### $\\rightarrow$  Sobressinal"
   ]
  },
  {
   "cell_type": "markdown",
   "metadata": {},
   "source": [
    " $ M_p = e^\\frac{-\\pi . \\zeta}{\\sqrt{1-\\zeta^2}}$"
   ]
  },
  {
   "cell_type": "code",
   "execution_count": 126,
   "metadata": {},
   "outputs": [
    {
     "name": "stdout",
     "output_type": "stream",
     "text": [
      "\n",
      "Mp =  0.04599\n"
     ]
    }
   ],
   "source": [
    "Mp_3 = np.exp((-np.pi*zeta2)/(np.sqrt(1-zeta2**2)))\n",
    "print(f'\\nMp =  {Mp_3:.5f}')"
   ]
  },
  {
   "cell_type": "markdown",
   "metadata": {},
   "source": [
    " $ M_p = 4,599 \\%$"
   ]
  },
  {
   "cell_type": "markdown",
   "metadata": {},
   "source": [
    "### $\\rightarrow$  Frequência Natural"
   ]
  },
  {
   "cell_type": "markdown",
   "metadata": {},
   "source": [
    "### $ \\omega_n \\geq \\frac{3}{t_s5\\%*\\zeta}$"
   ]
  },
  {
   "cell_type": "code",
   "execution_count": 127,
   "metadata": {},
   "outputs": [
    {
     "name": "stdout",
     "output_type": "stream",
     "text": [
      "\n",
      "Wn = 178.5714 rad/s\n"
     ]
    }
   ],
   "source": [
    "wn2 = 3/(ts*zeta2)\n",
    "print(f'\\nWn = {wn2:.4f} rad/s')"
   ]
  },
  {
   "cell_type": "markdown",
   "metadata": {},
   "source": [
    "### $ \\omega_n \\geq 178,5714 \\frac{rad}{s}$"
   ]
  },
  {
   "cell_type": "code",
   "execution_count": 153,
   "metadata": {},
   "outputs": [
    {
     "name": "stdout",
     "output_type": "stream",
     "text": [
      "314.1592653589793\n"
     ]
    }
   ],
   "source": [
    "wn2 = 100*np.pi\n",
    "print(wn2)"
   ]
  },
  {
   "cell_type": "markdown",
   "metadata": {},
   "source": [
    "### $\\rightarrow$  Tempo de Acomodação de 5%"
   ]
  },
  {
   "cell_type": "code",
   "execution_count": 129,
   "metadata": {},
   "outputs": [
    {
     "name": "stdout",
     "output_type": "stream",
     "text": [
      "\n",
      "Ts5% = 0.0136419 s\n"
     ]
    }
   ],
   "source": [
    "ts5 = 3/(zeta2*wn2)\n",
    "print(f'\\nTs5% = {ts5:.7f} s')"
   ]
  },
  {
   "cell_type": "markdown",
   "metadata": {},
   "source": [
    "$t_{s5\\%} = 13,64 ms$"
   ]
  },
  {
   "cell_type": "markdown",
   "metadata": {},
   "source": [
    "### $\\rightarrow$  Período de Amostragem"
   ]
  },
  {
   "cell_type": "markdown",
   "metadata": {},
   "source": [
    "$ \\omega_d =\\omega_n \\sqrt{1 - \\zeta^2} $"
   ]
  },
  {
   "cell_type": "code",
   "execution_count": 130,
   "metadata": {},
   "outputs": [
    {
     "name": "stdout",
     "output_type": "stream",
     "text": [
      "\n",
      "Wd = 224.3546 *pi rad/s\n"
     ]
    }
   ],
   "source": [
    "wd = wn2*np.sqrt(1-zeta2**2)\n",
    "print(f'\\nWd = {wd:.4f} *pi rad/s')"
   ]
  },
  {
   "cell_type": "markdown",
   "metadata": {},
   "source": [
    "$ \\omega_d = 224,3546 \\pi rad/s$"
   ]
  },
  {
   "cell_type": "markdown",
   "metadata": {},
   "source": [
    "$ \\omega_a = \\omega_d * 10$"
   ]
  },
  {
   "cell_type": "code",
   "execution_count": 131,
   "metadata": {},
   "outputs": [
    {
     "name": "stdout",
     "output_type": "stream",
     "text": [
      "\n",
      "Wa = 2243.5459 *pi rad/s\n"
     ]
    }
   ],
   "source": [
    "wa = wd * 10\n",
    "print(f'\\nWa = {wa:.4f} *pi rad/s')"
   ]
  },
  {
   "cell_type": "markdown",
   "metadata": {},
   "source": [
    "$ \\omega_a = 2243,5459 \\pi rad/s$"
   ]
  },
  {
   "cell_type": "markdown",
   "metadata": {},
   "source": [
    "$ T_a = \\frac{2.\\pi}{\\omega_a} $"
   ]
  },
  {
   "cell_type": "code",
   "execution_count": 132,
   "metadata": {},
   "outputs": [
    {
     "name": "stdout",
     "output_type": "stream",
     "text": [
      "\n",
      "Ta = 0.0028 s\n"
     ]
    }
   ],
   "source": [
    "Ta = 2*np.pi/wa\n",
    "print(f'\\nTa = {Ta:.4f} s')"
   ]
  },
  {
   "cell_type": "markdown",
   "metadata": {},
   "source": [
    "$ T_a = 2,8 ms$"
   ]
  },
  {
   "cell_type": "code",
   "execution_count": 133,
   "metadata": {},
   "outputs": [
    {
     "data": {
      "text/latex": [
       "$$\\frac{0.08123 z + 0.07174}{z^2 - 1.537 z + 0.6902}\\quad dt = 0.0028005601680560197$$"
      ],
      "text/plain": [
       "TransferFunction(array([0.08122679, 0.07173686]), array([ 1.        , -1.53722418,  0.69018783]), 0.0028005601680560197)"
      ]
     },
     "execution_count": 133,
     "metadata": {},
     "output_type": "execute_result"
    }
   ],
   "source": [
    "Gz = ctrl.c2d(Gs, Ta)\n",
    "Gz"
   ]
  },
  {
   "cell_type": "markdown",
   "metadata": {},
   "source": [
    "### $\\rightarrow$  Módulo e Ângulo"
   ]
  },
  {
   "cell_type": "code",
   "execution_count": 134,
   "metadata": {},
   "outputs": [
    {
     "name": "stdout",
     "output_type": "stream",
     "text": [
      "z1 = |0.540168|<36.000000°\n",
      "z1 = (0.4370049734786017+0.31750269818205895j)\n"
     ]
    }
   ],
   "source": [
    "Z_mod = np.exp(-Ta*zeta2*wn2)\n",
    "Z_fase_rad = Ta*wn2*np.sqrt(1-zeta2**2)\n",
    "Z_fase_deg = math.degrees(Z_fase_rad)\n",
    "\n",
    "z1 = cmath.rect(Z_mod, Z_fase_rad)\n",
    "\n",
    "print(f'z1 = |{Z_mod:.6f}|<{Z_fase_deg:.6f}°')\n",
    "print('z1 =',z1)"
   ]
  },
  {
   "cell_type": "code",
   "execution_count": 135,
   "metadata": {},
   "outputs": [
    {
     "data": {
      "image/png": "[encoded data removed]",
      "text/plain": [
       "<Figure size 432x288 with 1 Axes>"
      ]
     },
     "metadata": {
      "needs_background": "light"
     },
     "output_type": "display_data"
    }
   ],
   "source": [
    "ctrl.pzmap(Gz, True, True)\n",
    "\n",
    "plt.plot(z1.real, z1.imag, '*b')\n",
    "plt.plot(z1.real, -z1.imag, '*b')\n",
    "plt.show()"
   ]
  },
  {
   "cell_type": "markdown",
   "metadata": {},
   "source": [
    "### $\\rightarrow$  Cálculo da condição de ângulo"
   ]
  },
  {
   "cell_type": "code",
   "execution_count": 136,
   "metadata": {},
   "outputs": [
    {
     "name": "stdout",
     "output_type": "stream",
     "text": [
      "Ângulo resultante: -42.9438°\n"
     ]
    }
   ],
   "source": [
    "# Integrador\n",
    "Ci = ctrl.tf(1,[1, -1], Ta) \n",
    "\n",
    "# Zeros\n",
    "Cz = ctrl.tf(Gz.den[0][0], 1, Ta)\n",
    "\n",
    "Gc = Cz * Ci \n",
    "\n",
    "ang = np.pi - cmath.phase(Gc(z1)) - cmath.phase(Gz(z1))\n",
    "\n",
    "print(f'Ângulo resultante: {math.degrees(ang):.4f}°')"
   ]
  },
  {
   "cell_type": "markdown",
   "metadata": {},
   "source": [
    "### $\\rightarrow$  Cálculo de $\\beta$"
   ]
  },
  {
   "cell_type": "code",
   "execution_count": 137,
   "metadata": {},
   "outputs": [
    {
     "name": "stdout",
     "output_type": "stream",
     "text": [
      "Beta = -0.095855\n"
     ]
    }
   ],
   "source": [
    "beta = (z1.imag - z1.real * math.tan(-ang))/math.tan(-ang)\n",
    "print(f'Beta = {beta:.6f}')"
   ]
  },
  {
   "cell_type": "code",
   "execution_count": 138,
   "metadata": {},
   "outputs": [
    {
     "data": {
      "text/plain": [
       "-179.99999999999997"
      ]
     },
     "execution_count": 138,
     "metadata": {},
     "output_type": "execute_result"
    }
   ],
   "source": [
    "Cp = ctrl.tf([1], [1, beta], Ta)\n",
    "\n",
    "#print(f'Gc = {Cp*Cz}')\n",
    "\n",
    "FTMA_aux = Cp*Gc*Gz\n",
    "#print(FTMA_aux)\n",
    "math.degrees(cmath.phase(FTMA_aux(z1)))"
   ]
  },
  {
   "cell_type": "markdown",
   "metadata": {},
   "source": [
    "### $\\rightarrow$  Cálculo do K"
   ]
  },
  {
   "cell_type": "code",
   "execution_count": 139,
   "metadata": {},
   "outputs": [
    {
     "name": "stdout",
     "output_type": "stream",
     "text": [
      "K = 2.731181 \n",
      "Módulo =  1.0\n"
     ]
    }
   ],
   "source": [
    "K = 1/np.abs(FTMA_aux(z1))\n",
    "\n",
    "FTMA = K * FTMA_aux\n",
    "print(f'K = {K:.6f} ')\n",
    "\n",
    "print('Módulo = ', np.abs(FTMA(z1)))"
   ]
  },
  {
   "cell_type": "code",
   "execution_count": 155,
   "metadata": {},
   "outputs": [
    {
     "name": "stdout",
     "output_type": "stream",
     "text": [
      "C = \n",
      "2.731 z^2 - 4.198 z + 1.885\n",
      "---------------------------\n",
      "  z^2 - 1.096 z + 0.09585\n",
      "\n",
      "dt = 0.0028005601680560197\n",
      "\n",
      "G = \n",
      " 0.08123 z + 0.07174\n",
      "----------------------\n",
      "z^2 - 1.537 z + 0.6902\n",
      "\n",
      "dt = 0.0028005601680560197\n",
      "\n"
     ]
    }
   ],
   "source": [
    "Controlador = K*Cp*Gc\n",
    "\n",
    "print(f'C = {Controlador}\\nG = {Gz}')"
   ]
  },
  {
   "cell_type": "code",
   "execution_count": 141,
   "metadata": {},
   "outputs": [],
   "source": [
    "FTMFz = FTMA/(1 + FTMA)\n",
    "FTMFz\n",
    "yc, tc =matlab.step(FTMFz, Ta*np.arange(0,int(0.05/Ta + 1)))"
   ]
  },
  {
   "cell_type": "code",
   "execution_count": 142,
   "metadata": {},
   "outputs": [
    {
     "name": "stdout",
     "output_type": "stream",
     "text": [
      "(0.4370049734786017+0.31750269818205895j)\n",
      "6 states have been removed from the model\n"
     ]
    },
    {
     "data": {
      "text/plain": [
       "array([0.43700497+0.3175027j, 0.43700497-0.3175027j])"
      ]
     },
     "execution_count": 142,
     "metadata": {},
     "output_type": "execute_result"
    }
   ],
   "source": [
    "print(z1)\n",
    "ctrl.pole(ctrl.minreal(FTMFz))"
   ]
  },
  {
   "cell_type": "markdown",
   "metadata": {},
   "source": [
    "### $\\rightarrow$  Equações Recursivas"
   ]
  },
  {
   "cell_type": "code",
   "execution_count": 150,
   "metadata": {},
   "outputs": [
    {
     "data": {
      "image/png": "[encoded data removed]",
      "text/plain": [
       "<Figure size 432x288 with 1 Axes>"
      ]
     },
     "metadata": {
      "needs_background": "light"
     },
     "output_type": "display_data"
    }
   ],
   "source": [
    "kmax = int(0.05/Ta + 1)\n",
    "t = Ta*np.arange(0,kmax)\n",
    "Ref = 1\n",
    "y = np.zeros(kmax)\n",
    "u = np.zeros(kmax)\n",
    "e = Ref - y\n",
    "\n",
    "u[0] = 2.731*e[0]\n",
    "y[1] = 0.08123*u[0] +1.537*y[0] \n",
    "e[1] = Ref - y[1]\n",
    "u[1] = 2.731*e[1] -4.198*e[0] +1.0962*u[0]\n",
    "\n",
    "for k in range(2, kmax):\n",
    "    y[k] = 1.537*y[k-1] - 0.6902*y[k-2] + 0.08123*u[k-1] + 0.07174*u[k-2]\n",
    "    e[k] = Ref - y[k]\n",
    "    u[k] = 1.0962*u[k-1] - 0.09585*u[k-2] + 2.731*e[k] - 4.198*e[k-1] + 1.885*e[k-2]\n",
    "\n",
    "plt.plot(t*1e3, u, ds='steps-post', label=\"Ação de controle\")\n",
    "plt.plot(t*1e3, y, 'r*', label=\"Equação Recursiva\")\n",
    "plt.plot(tc*1e3, yc, ds='steps-post', label= \"Sistema controlado\")\n",
    "plt.legend()\n",
    "plt.show()"
   ]
  },
  {
   "cell_type": "code",
   "execution_count": 144,
   "metadata": {},
   "outputs": [
    {
     "name": "stdout",
     "output_type": "stream",
     "text": [
      "Mp = 4.63%\n"
     ]
    }
   ],
   "source": [
    "print(f'Mp = {(max(y)-1)*100:.2f}%')"
   ]
  },
  {
   "cell_type": "code",
   "execution_count": 145,
   "metadata": {},
   "outputs": [
    {
     "name": "stdout",
     "output_type": "stream",
     "text": [
      "Erro = 0.09%\n"
     ]
    }
   ],
   "source": [
    "print(f'Erro = {(y[-1]-1)*100:.2f}%')"
   ]
  },
  {
   "cell_type": "code",
   "execution_count": 146,
   "metadata": {},
   "outputs": [
    {
     "data": {
      "text/plain": [
       "0.011202240672224079"
      ]
     },
     "execution_count": 146,
     "metadata": {},
     "output_type": "execute_result"
    }
   ],
   "source": [
    "np.argwhere(y>=.95)[0][0]*Ta"
   ]
  },
  {
   "cell_type": "code",
   "execution_count": null,
   "metadata": {},
   "outputs": [],
   "source": []
  }
 ],
 "metadata": {
  "kernelspec": {
   "display_name": "Python 3",
   "language": "python",
   "name": "python3"
  },
  "language_info": {
   "codemirror_mode": {
    "name": "ipython",
    "version": 3
   },
   "file_extension": ".py",
   "mimetype": "text/x-python",
   "name": "python",
   "nbconvert_exporter": "python",
   "pygments_lexer": "ipython3",
   "version": "3.7.4"
  }
 },
 "nbformat": 4,
 "nbformat_minor": 5
}
