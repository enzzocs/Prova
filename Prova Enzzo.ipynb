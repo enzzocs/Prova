{
 "cells": [
  {
   "cell_type": "markdown",
   "id": "d5cee0fb",
   "metadata": {},
   "source": [
    "## Enzzo Comassetto dos Santos\n",
    "\n",
    "## Prova 1 Controle 2"
   ]
  },
  {
   "cell_type": "markdown",
   "id": "0000a3a0",
   "metadata": {},
   "source": [
    "## Questão 1"
   ]
  },
  {
   "cell_type": "code",
   "execution_count": 1,
   "id": "e6374548",
   "metadata": {},
   "outputs": [],
   "source": [
    "from numpy import linspace, zeros, ones, arange, e, sqrt, pi, abs\n",
    "from control import c2d, tf, pzmap\n",
    "import control\n",
    "import control.matlab\n",
    "from math import degrees, tan\n",
    "from cmath import phase, rect\n",
    "import matplotlib.pyplot as plt\n",
    "import sympy\n",
    "import numpy as np\n",
    "import cmath\n",
    "import math"
   ]
  },
  {
   "cell_type": "code",
   "execution_count": 6,
   "id": "e8b7113a",
   "metadata": {},
   "outputs": [
    {
     "name": "stdout",
     "output_type": "stream",
     "text": [
      "Gs = \n",
      "s + 1\n",
      "-----\n",
      "s + 4\n",
      "\n",
      "Gz = \n",
      "z - 0.7838\n",
      "----------\n",
      "z - 0.1353\n",
      "\n",
      "dt = 0.5\n",
      "\n"
     ]
    }
   ],
   "source": [
    "T = 0.5\n",
    "Gs = tf([1, 1],[1,4])\n",
    "print(\"Gs =\",Gs)\n",
    "\n",
    "Gz = c2d(Gs, T)\n",
    "print(\"Gz =\", Gz)"
   ]
  },
  {
   "cell_type": "code",
   "execution_count": 7,
   "id": "cbb4258e",
   "metadata": {},
   "outputs": [
    {
     "name": "stdout",
     "output_type": "stream",
     "text": [
      "GHs = \n",
      " 2 s + 2\n",
      "---------\n",
      "s^2 + 4 s\n",
      "\n",
      "GHz = \n",
      "  0.5742 z - 0.3581\n",
      "----------------------\n",
      "z^2 - 1.135 z + 0.1353\n",
      "\n",
      "dt = 0.5\n",
      "\n",
      "Polos de GHz = [1.        +0.j 0.13533528+0.j]\n"
     ]
    }
   ],
   "source": [
    "GHs = Gs*tf([2],[1, 0])\n",
    "print(\"GHs =\",GHs)\n",
    "\n",
    "GHz = c2d(GHs, T)\n",
    "print(\"GHz =\", GHz)\n",
    "\n",
    "Polos_GHz = control.pole(GHz)\n",
    "print(\"Polos de GHz =\", Polos_GHz)"
   ]
  },
  {
   "cell_type": "code",
   "execution_count": 10,
   "id": "c9b4521a",
   "metadata": {},
   "outputs": [
    {
     "data": {
      "text/plain": [
       "[<matplotlib.lines.Line2D at 0x22a3ac6f880>]"
      ]
     },
     "execution_count": 10,
     "metadata": {},
     "output_type": "execute_result"
    },
    {
     "data": {
      "image/png": "[encoded data removed]",
      "text/plain": [
       "<Figure size 640x480 with 1 Axes>"
      ]
     },
     "metadata": {},
     "output_type": "display_data"
    }
   ],
   "source": [
    "#Equacoes recursivas, calculadas no papel \n",
    "\n",
    "#G\n",
    "#c[k] = e[k] - 0.7838*e[k-1] + 0.1353*c[k-1]\n",
    "\n",
    "#GH\n",
    "#v[k] = 0.5742*e[k-1] - 0.3581*e[k-2] + 1.135*v[k-1] - 0.1353*v[k-2]\n",
    "\n",
    "#e = r - v\n",
    "\n",
    "kmax = 25\n",
    "\n",
    "# Para entrada rampa unitario: T*arange(0,kmax) \n",
    "t = T*arange(0,kmax)\n",
    "r = T*arange(0,kmax)\n",
    "\n",
    "c = np.zeros(kmax)\n",
    "v = np.zeros(kmax)\n",
    "e = np.zeros(kmax)\n",
    "\n",
    "k = 1\n",
    "\n",
    "e[k] = x[k] - r[k]\n",
    "c[k] = e[k] - 0.7838*e[k-1] + 0.1353*c[k-1]\n",
    "v[k] = 0.5742*e[k-1]  + 1.135*v[k-1]\n",
    "\n",
    "\n",
    "for k in range(2, kmax):\n",
    "    e[k] = x[k] - r[k]\n",
    "    c[k] = e[k] - 0.7838*e[k-1] + 0.1353*c[k-1]\n",
    "    v[k] = 0.5742*e[k-1] - 0.3581*e[k-2] + 1.135*v[k-1] - 0.1353*v[k-2]\n",
    "    \n",
    "    \n",
    "\n",
    "plt.plot(t,c, ds='steps-post')\n",
    "\n"
   ]
  },
  {
   "cell_type": "markdown",
   "id": "aba51e94",
   "metadata": {},
   "source": [
    "## Questão 2 - a)"
   ]
  },
  {
   "cell_type": "code",
   "execution_count": 22,
   "id": "44815704",
   "metadata": {},
   "outputs": [
    {
     "name": "stdout",
     "output_type": "stream",
     "text": [
      "As = \n",
      "      s + 1\n",
      "-----------------\n",
      "s^3 + 6 s^2 + 8 s\n",
      "\n",
      "GHz = \n",
      "0.01458 z^2 - 0.001487 z - 0.008559\n",
      "-----------------------------------\n",
      " z^3 - 2.12 z^2 + 1.421 z - 0.3012\n",
      "\n",
      "dt = 0.2\n",
      "\n",
      "Polos de Az = [1.        +0.j 0.67032005+0.j 0.44932896+0.j]\n"
     ]
    }
   ],
   "source": [
    "T = 0.2\n",
    "As = Gs*tf(1,[1,2, 0])\n",
    "print(\"As =\",As)\n",
    "\n",
    "Az = c2d(As, T)\n",
    "print(\"GHz =\", Az)\n",
    "\n",
    "Polos_Az = control.pole(Az)\n",
    "print(\"Polos de Az =\", Polos_Az)"
   ]
  },
  {
   "cell_type": "code",
   "execution_count": 23,
   "id": "b74f3427",
   "metadata": {},
   "outputs": [
    {
     "name": "stdout",
     "output_type": "stream",
     "text": [
      "Z módulo = 0.8521437889662113\n",
      "Z angulo = 0.3666060555964672 radianos\n",
      "Z1 forma retangular = (0.795518217452992+0.3054501641415585j)\n",
      "(0.026195079085239305-0.7523519826393613j)\n"
     ]
    }
   ],
   "source": [
    "zeta = 0.4\n",
    "wn = 2\n",
    "\n",
    "z_mod = np.exp(-T*zeta*wn)\n",
    "print(\"Z módulo =\", z_mod)\n",
    "\n",
    "z_ang = T*wn*np.sqrt(1-(zeta**2))\n",
    "print(\"Z angulo =\", z_ang ,\"radianos\")\n",
    "\n",
    "z_rect = cmath.rect(z_mod, z_ang)\n",
    "print(\"Z1 forma retangular =\",z_rect)\n",
    "\n",
    "alpha = -0.6703 # Não vai cancelar (z-1), pois este é o integrador que anula o erro ao degrau\n",
    "\n",
    "print(GHz(z_rect))"
   ]
  },
  {
   "cell_type": "code",
   "execution_count": 24,
   "id": "1389f283",
   "metadata": {},
   "outputs": [
    {
     "name": "stdout",
     "output_type": "stream",
     "text": [
      "z1 =  (0.795518217452992-0.3054501641415585j)\n"
     ]
    }
   ],
   "source": [
    "s1 = -1*(zeta * wn + 1j* wn *math.sqrt(1 - pow(zeta,2)))\n",
    "z1 = cmath.exp( s1*T )\n",
    "\n",
    "print(\"z1 = \", z1)"
   ]
  },
  {
   "cell_type": "code",
   "execution_count": 25,
   "id": "c99b2739",
   "metadata": {},
   "outputs": [
    {
     "name": "stdout",
     "output_type": "stream",
     "text": [
      "Beta =  -0.9757235173807489\n"
     ]
    }
   ],
   "source": [
    "numA = Az.num[0][0];\n",
    "denA = Az.den[0][0];\n",
    "numGc = [1, alpha];\n",
    "\n",
    "phi2 = np.angle(np.polyval(numA,z1))+np.angle(np.polyval(numGc,z1))-np.angle(np.polyval(denA,z1));\n",
    "phiB = -np.pi-phi2;\n",
    "beta = (np.imag(z1)-np.real(z1)*np.tan(-phiB))/np.tan(-phiB);\n",
    "\n",
    "print(\"Beta = \", beta)"
   ]
  },
  {
   "cell_type": "code",
   "execution_count": 27,
   "id": "11c16ccc",
   "metadata": {},
   "outputs": [
    {
     "name": "stdout",
     "output_type": "stream",
     "text": [
      "G1z =  \n",
      "    1\n",
      "----------\n",
      "z - 0.9757\n",
      "\n",
      "dt = 0.2\n",
      "\n",
      "G2z =  \n",
      "0.01458 z^3 - 0.01126 z^2 - 0.007562 z + 0.005737\n",
      "-------------------------------------------------\n",
      "        z^3 - 2.12 z^2 + 1.421 z - 0.3012\n",
      "\n",
      "dt = 0.2\n",
      "\n"
     ]
    }
   ],
   "source": [
    "G1 = tf(1, [1, beta], T)\n",
    "G2 = tf([1, alpha], 1, T)*Az\n",
    "\n",
    "print(\"G1z = \", G1)\n",
    "print(\"G2z = \", G2)"
   ]
  },
  {
   "cell_type": "code",
   "execution_count": 28,
   "id": "4af03a6f",
   "metadata": {},
   "outputs": [
    {
     "name": "stdout",
     "output_type": "stream",
     "text": [
      "FTMA =  \n",
      "0.01458 z^3 - 0.01126 z^2 - 0.007562 z + 0.005737\n",
      "-------------------------------------------------\n",
      " z^4 - 3.095 z^3 + 3.489 z^2 - 1.688 z + 0.2939\n",
      "\n",
      "dt = 0.2\n",
      "\n",
      "Kc =  8.731128042568308\n"
     ]
    }
   ],
   "source": [
    "FTMA = G1 * G2\n",
    "Kc = 1/np.abs(FTMA(z_rect))\n",
    "\n",
    "print(\"FTMA = \", FTMA)\n",
    "print(\"Kc = \", Kc)"
   ]
  },
  {
   "cell_type": "markdown",
   "id": "e2590bac",
   "metadata": {},
   "source": [
    "## b)"
   ]
  },
  {
   "cell_type": "code",
   "execution_count": 30,
   "id": "544532c7",
   "metadata": {},
   "outputs": [
    {
     "name": "stdout",
     "output_type": "stream",
     "text": [
      "Gc(z) =  \n",
      "8.731 z - 5.852\n",
      "---------------\n",
      "   z + 0.25\n",
      "\n",
      "dt = 0.2\n",
      "\n"
     ]
    }
   ],
   "source": [
    "beta = 0.25\n",
    "\n",
    "Gc = tf([Kc, Kc*alpha], [1, beta], T);\n",
    "\n",
    "print(\"Gc(z) = \", Gc)"
   ]
  },
  {
   "cell_type": "code",
   "execution_count": 42,
   "id": "390a5e01",
   "metadata": {},
   "outputs": [
    {
     "data": {
      "text/latex": [
       "$$\\frac{8.731 z^3 - 1.487 z^2 - 2.381 z - 0.3658}{z^2 - 0.4203 z - 0.1676}\\quad dt = 0.2$$"
      ],
      "text/plain": [
       "TransferFunction(array([ 8.73112804, -1.48691111, -2.38054206, -0.3657797 ]), array([ 1.      , -0.4203  , -0.167575]), 0.2)"
      ]
     },
     "execution_count": 42,
     "metadata": {},
     "output_type": "execute_result"
    }
   ],
   "source": [
    "Kc = Gc * tf([1, 2*beta, beta**2], [1, alpha], T)\n",
    "\n",
    "Kc \n"
   ]
  },
  {
   "cell_type": "code",
   "execution_count": 47,
   "id": "2b7182dc",
   "metadata": {},
   "outputs": [
    {
     "ename": "NameError",
     "evalue": "name 'z' is not defined",
     "output_type": "error",
     "traceback": [
      "\u001b[1;31m---------------------------------------------------------------------------\u001b[0m",
      "\u001b[1;31mNameError\u001b[0m                                 Traceback (most recent call last)",
      "\u001b[1;32m~\\AppData\\Local\\Temp\\ipykernel_1088\\3687480174.py\u001b[0m in \u001b[0;36m<module>\u001b[1;34m\u001b[0m\n\u001b[1;32m----> 1\u001b[1;33m \u001b[0mresult\u001b[0m \u001b[1;33m=\u001b[0m \u001b[0msympy\u001b[0m\u001b[1;33m.\u001b[0m\u001b[0mlimit\u001b[0m\u001b[1;33m(\u001b[0m\u001b[0mKc\u001b[0m\u001b[1;33m,\u001b[0m \u001b[0mz\u001b[0m\u001b[1;33m,\u001b[0m \u001b[1;36m2\u001b[0m\u001b[1;33m)\u001b[0m\u001b[1;33m\u001b[0m\u001b[1;33m\u001b[0m\u001b[0m\n\u001b[0m",
      "\u001b[1;31mNameError\u001b[0m: name 'z' is not defined"
     ]
    }
   ],
   "source": [
    "result = sympy.limit(Kc, z, 2)"
   ]
  }
 ],
 "metadata": {
  "kernelspec": {
   "display_name": "Python 3 (ipykernel)",
   "language": "python",
   "name": "python3"
  },
  "language_info": {
   "codemirror_mode": {
    "name": "ipython",
    "version": 3
   },
   "file_extension": ".py",
   "mimetype": "text/x-python",
   "name": "python",
   "nbconvert_exporter": "python",
   "pygments_lexer": "ipython3",
   "version": "3.9.13"
  }
 },
 "nbformat": 4,
 "nbformat_minor": 5
}
