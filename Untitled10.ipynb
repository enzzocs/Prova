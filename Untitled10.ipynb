{
 "cells": [
  {
   "cell_type": "markdown",
   "metadata": {},
   "source": [
    "## a)"
   ]
  },
  {
   "cell_type": "code",
   "execution_count": 1,
   "metadata": {},
   "outputs": [],
   "source": [
    "from numpy import linspace, zeros, ones, arange, e, sqrt, pi, abs\n",
    "from control import c2d, tf, pzmap\n",
    "import control\n",
    "import control.matlab\n",
    "from math import degrees, tan\n",
    "from cmath import phase, rect\n",
    "import matplotlib.pyplot as plt\n",
    "import sympy\n",
    "import numpy as np\n",
    "import cmath\n",
    "import math"
   ]
  },
  {
   "cell_type": "code",
   "execution_count": 2,
   "metadata": {},
   "outputs": [
    {
     "name": "stdout",
     "output_type": "stream",
     "text": [
      "Gs = \n",
      "  1\n",
      "-----\n",
      "s + 2\n",
      "\n",
      "Gz = \n",
      "  0.1648\n",
      "----------\n",
      "z - 0.6703\n",
      "\n",
      "dt = 0.2\n",
      "\n"
     ]
    }
   ],
   "source": [
    "T = 0.2\n",
    "Gs = tf(1,[1,2])\n",
    "print(\"Gs =\",Gs)\n",
    "\n",
    "Gz = c2d(Gs, T)\n",
    "print(\"Gz =\", Gz)"
   ]
  },
  {
   "cell_type": "code",
   "execution_count": 3,
   "metadata": {},
   "outputs": [
    {
     "name": "stdout",
     "output_type": "stream",
     "text": [
      "GHs = \n",
      "    1\n",
      "---------\n",
      "s^2 + 2 s\n",
      "\n",
      "GHz = \n",
      " 0.01758 z + 0.01539\n",
      "---------------------\n",
      "z^2 - 1.67 z + 0.6703\n",
      "\n",
      "dt = 0.2\n",
      "\n",
      "Polos de GHz = [1.         0.67032005]\n"
     ]
    }
   ],
   "source": [
    "GHs = Gs*tf(1,[1,0])\n",
    "print(\"GHs =\",GHs)\n",
    "\n",
    "GHz = c2d(GHs, T)\n",
    "print(\"GHz =\", GHz)\n",
    "\n",
    "Polos_GHz = control.pole(GHz)\n",
    "print(\"Polos de GHz =\", Polos_GHz)"
   ]
  },
  {
   "cell_type": "code",
   "execution_count": 4,
   "metadata": {},
   "outputs": [
    {
     "name": "stdout",
     "output_type": "stream",
     "text": [
      "Fs = \n",
      "1\n",
      "-\n",
      "s\n",
      "\n",
      "Fz = \n",
      " 0.2\n",
      "-----\n",
      "z - 1\n",
      "\n",
      "dt = 0.2\n",
      "\n"
     ]
    }
   ],
   "source": [
    "Fs = tf(1,[1,0])\n",
    "print(\"Fs =\",Fs)\n",
    "\n",
    "Fz = c2d(Fs, T)\n",
    "print(\"Fz =\", Fz)"
   ]
  },
  {
   "cell_type": "code",
   "execution_count": 5,
   "metadata": {},
   "outputs": [
    {
     "name": "stdout",
     "output_type": "stream",
     "text": [
      "z1 =  (0.4963235336169597-0.3695346207773863j)\n"
     ]
    }
   ],
   "source": [
    "zeta = 0.6\n",
    "wn = 4\n",
    "s1 = -1*(zeta * wn + 1j* wn *math.sqrt(1 - pow(zeta,2)))\n",
    "z1 = cmath.exp( s1*T )\n",
    "\n",
    "print(\"z1 = \", z1)"
   ]
  },
  {
   "cell_type": "code",
   "execution_count": 7,
   "metadata": {},
   "outputs": [
    {
     "name": "stdout",
     "output_type": "stream",
     "text": [
      "Z módulo = 0.6187833918061408\n",
      "Z angulo = 0.6400000000000001 radianos\n",
      "Z1 forma retangular = (0.4963235336169597+0.3695346207773863j)\n",
      "(-0.043106279349581354+0.08786986053881124j)\n"
     ]
    }
   ],
   "source": [
    "z_mod = np.exp(-T*zeta*wn)\n",
    "print(\"Z módulo =\", z_mod)\n",
    "\n",
    "z_ang = T*wn*np.sqrt(1-(zeta**2))\n",
    "print(\"Z angulo =\", z_ang ,\"radianos\")\n",
    "\n",
    "z_rect = cmath.rect(z_mod, z_ang)\n",
    "print(\"Z1 forma retangular =\",z_rect)\n",
    "\n",
    "alfa = -0.8607 # Não vai cancelar (z-1), pois este é o integrador que anula o erro ao degrau\n",
    "\n",
    "print(GHz(z_rect))"
   ]
  },
  {
   "cell_type": "code",
   "execution_count": 38,
   "metadata": {},
   "outputs": [
    {
     "name": "stdout",
     "output_type": "stream",
     "text": [
      "Beta =  -0.08306705601996371\n"
     ]
    }
   ],
   "source": [
    "alpha = -0.6\n",
    "\n",
    "numGHz = GHz.num[0][0];\n",
    "denGHz = GHz.den[0][0];\n",
    "numGc = [1, alpha];\n",
    "\n",
    "phi2 = np.angle(np.polyval(numGHz,z1))+np.angle(np.polyval(numGc,z1))-np.angle(np.polyval(denGHz,z1));\n",
    "phiB = -np.pi-phi2;\n",
    "beta = (np.imag(z1)-np.real(z1)*np.tan(-phiB))/np.tan(-phiB);\n",
    "\n",
    "\n",
    "\n",
    "print(\"Beta = \", beta)\n",
    "\n",
    "\n"
   ]
  },
  {
   "cell_type": "code",
   "execution_count": 19,
   "metadata": {},
   "outputs": [
    {
     "name": "stdout",
     "output_type": "stream",
     "text": [
      "G1z =  \n",
      "     1\n",
      "-----------\n",
      "z - 0.08307\n",
      "\n",
      "dt = 0.2\n",
      "\n",
      "G2z =  \n",
      "0.01758 z^2 + 0.00484 z - 0.009233\n",
      "----------------------------------\n",
      "      z^2 - 1.67 z + 0.6703\n",
      "\n",
      "dt = 0.2\n",
      "\n"
     ]
    }
   ],
   "source": [
    "G1 = tf(1, [1, beta], T)\n",
    "G2 = tf([1, alpha], 1, T)*GHz\n",
    "\n",
    "print(\"G1z = \", G1)\n",
    "print(\"G2z = \", G2)\n"
   ]
  },
  {
   "cell_type": "code",
   "execution_count": 20,
   "metadata": {},
   "outputs": [
    {
     "name": "stdout",
     "output_type": "stream",
     "text": [
      "FTMA =  \n",
      " 0.01758 z^2 + 0.00484 z - 0.009233\n",
      "------------------------------------\n",
      "z^3 - 1.753 z^2 + 0.8091 z - 0.05568\n",
      "\n",
      "dt = 0.2\n",
      "\n",
      "Kc =  14.758185415337456\n"
     ]
    }
   ],
   "source": [
    "FTMA = G1 * G2\n",
    "Kc = 1/np.abs(FTMA(z_rect))\n",
    "\n",
    "print(\"FTMA = \", FTMA)\n",
    "print(\"Kc = \", Kc)\n"
   ]
  },
  {
   "cell_type": "code",
   "execution_count": 28,
   "metadata": {},
   "outputs": [
    {
     "name": "stdout",
     "output_type": "stream",
     "text": [
      "Gc(z) =  \n",
      "14.76 z - 8.855\n",
      "---------------\n",
      "  z - 0.08307\n",
      "\n",
      "dt = 0.2\n",
      "\n"
     ]
    }
   ],
   "source": [
    "Gc = tf([Kc, Kc*alpha], [1, beta], T);\n",
    "\n",
    "print(\"Gc(z) = \", Gc)"
   ]
  },
  {
   "cell_type": "code",
   "execution_count": 32,
   "metadata": {},
   "outputs": [
    {
     "name": "stdout",
     "output_type": "stream",
     "text": [
      "3 states have been removed from the model\n",
      "FTMF =  \n",
      "         0.4865 z - 0.2919\n",
      "-----------------------------------\n",
      "z^3 - 1.494 z^2 + 0.8805 z - 0.1919\n",
      "\n",
      "dt = 0.2\n",
      "\n",
      "Pólos resultantes da FTMF = \n",
      " [0.49632353+0.36953462j 0.49632353-0.36953462j 0.50129097+0.j        ]\n"
     ]
    }
   ],
   "source": [
    "FTMF = control.minreal(Fz*(Gc*Gz)/(1+Gc*GHz));\n",
    "\n",
    "print(\"FTMF = \", FTMF)\n",
    "\n",
    "print(\"Pólos resultantes da FTMF = \\n\", FTMF.pole());"
   ]
  },
  {
   "cell_type": "markdown",
   "metadata": {},
   "source": [
    "## b)"
   ]
  },
  {
   "cell_type": "code",
   "execution_count": 33,
   "metadata": {},
   "outputs": [
    {
     "data": {
      "image/png": "[encoded data removed]",
      "text/plain": [
       "<Figure size 432x288 with 1 Axes>"
      ]
     },
     "metadata": {
      "needs_background": "light"
     },
     "output_type": "display_data"
    }
   ],
   "source": [
    "tfinal = 5;\n",
    "Kmax = int(tfinal/T+1);\n",
    "k = np.linspace(0, tfinal, Kmax);\n",
    "r = np.heaviside(1,k);\n",
    "x = np.zeros_like(k);\n",
    "\n",
    "for i in range(1, Kmax):\n",
    "    x[i] = x[i-1] + 0.2*r[i-1]; # Equação recursiva\n",
    "\n",
    "plt.plot(k, x, 'b*', markersize=20);\n",
    "#plt.xticks(np.arange(min(k), max(k)+1, T));\n",
    "plt.title(\"Resposta de x(kT) para uma entrada do tipo degrau unitário\");\n",
    "plt.xlabel(\"$kT$\");\n",
    "plt.ylabel(\"$x \\, (kT)$\");\n",
    "plt.grid();\n",
    "plt.tight_layout();\n",
    "plt.show();"
   ]
  },
  {
   "cell_type": "markdown",
   "metadata": {},
   "source": [
    "## c)"
   ]
  },
  {
   "cell_type": "code",
   "execution_count": 35,
   "metadata": {},
   "outputs": [
    {
     "name": "stdout",
     "output_type": "stream",
     "text": [
      "Erro em regime permanente do sistema à entrada de um degrau unitário =\n",
      " 0.3106523323074436\n"
     ]
    }
   ],
   "source": [
    "Ez = control.minreal(Fz/(1+Gc*GHz), verbose=False);\n",
    "numEz = Ez.num[0][0];\n",
    "denEz = Ez.den[0][0];\n",
    "ess = (np.polyval(numEz, 1)/np.polyval(denEz, 1))  #  substituindo 1 em aux\n",
    "print(\"Erro em regime permanente do sistema à entrada de um degrau unitário =\\n\",ess);"
   ]
  },
  {
   "cell_type": "markdown",
   "metadata": {},
   "source": [
    "## d)"
   ]
  },
  {
   "cell_type": "code",
   "execution_count": 37,
   "metadata": {},
   "outputs": [
    {
     "data": {
      "image/png": "[encoded data removed]",
      "text/plain": [
       "<Figure size 432x288 with 1 Axes>"
      ]
     },
     "metadata": {
      "needs_background": "light"
     },
     "output_type": "display_data"
    }
   ],
   "source": [
    "tfinal = 5;\n",
    "Kmax = int(tfinal/T+1);\n",
    "k = np.linspace(0, tfinal, Kmax);\n",
    "r = np.heaviside(1,k);\n",
    "x = np.zeros_like(k);\n",
    "e = np.zeros_like(k);\n",
    "u = np.zeros_like(k);\n",
    "c = np.zeros_like(k);\n",
    "v = np.zeros_like(k);\n",
    "\n",
    "r0 = 0.2;\n",
    "e0 = Kc;\n",
    "e1 = Kc*alpha;\n",
    "u0_bloco_C = -beta;\n",
    "u0_bloco_G = Gz.num[0][0][0];\n",
    "c0 = -Gz.den[0][0][1];\n",
    "u0_bloco_GH = GHz.num[0][0][0];\n",
    "u1_bloco_GH = GHz.num[0][0][1];\n",
    "v0 = -GHz.den[0][0][1];\n",
    "v1 = -GHz.den[0][0][2];\n",
    "\n",
    "i = 1;\n",
    "x[i] = r0*r[i-1] + x[i-1];\n",
    "c[i] = u0_bloco_G*u[i-1] + c0*c[i-1];\n",
    "v[i] = u0_bloco_GH*u[i-1] + v0*v[i-1];\n",
    "e[i] = x[i] - v[i];\n",
    "u[i] = e0*e[i] + e1*e[i-1] + u0_bloco_C*u[i-1];\n",
    "\n",
    "for i in range(2, Kmax):\n",
    "    x[i] = r0*r[i-1] + x[i-1];\n",
    "    c[i] = u0_bloco_G*u[i-1] + c0*c[i-1];\n",
    "    v[i] = u0_bloco_GH*u[i-1] + u1_bloco_GH*u[i-2] + v0*v[i-1] + v1*v[i-2];\n",
    "    e[i] = x[i] - v[i];\n",
    "    u[i] = e0*e[i] + e1*e[i-1] + u0_bloco_C*u[i-1];\n",
    "\n",
    "y = control.step_response(FTMF, k)[1];\n",
    "\n",
    "plt.figure();\n",
    "plt.plot(k, y, ds='steps-post');\n",
    "plt.plot(k, y, 'r*', markersize=20);\n",
    "plt.plot(k, c, 'ko', markerfacecolor='None', markersize=20);\n",
    "plt.title(\"Resposta do sistema para uma entrada do tipo degrau unitário\");\n",
    "plt.xlabel(\"$kT$\");\n",
    "plt.ylabel(\"$c \\, (kT)$\");\n",
    "plt.grid();\n",
    "plt.tight_layout();\n",
    "plt.show();"
   ]
  }
 ],
 "metadata": {
  "kernelspec": {
   "display_name": "Python 3",
   "language": "python",
   "name": "python3"
  },
  "language_info": {
   "codemirror_mode": {
    "name": "ipython",
    "version": 3
   },
   "file_extension": ".py",
   "mimetype": "text/x-python",
   "name": "python",
   "nbconvert_exporter": "python",
   "pygments_lexer": "ipython3",
   "version": "3.7.4"
  }
 },
 "nbformat": 4,
 "nbformat_minor": 2
}
