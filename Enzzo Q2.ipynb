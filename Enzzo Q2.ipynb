{
 "cells": [
  {
   "cell_type": "code",
   "execution_count": 14,
   "id": "09a1adca",
   "metadata": {},
   "outputs": [],
   "source": [
    "from numpy import linspace, arange, zeros\n",
    "from control import c2d, tf\n",
    "import matplotlib.pyplot as plt\n",
    "import numpy as np\n",
    "import cmath\n",
    "import math\n",
    "import control\n",
    "import control.matlab\n",
    "from sympy import *"
   ]
  },
  {
   "cell_type": "code",
   "execution_count": 15,
   "id": "0404ea33",
   "metadata": {},
   "outputs": [
    {
     "name": "stdout",
     "output_type": "stream",
     "text": [
      "Gz = \n",
      " \n",
      "  0.1055\n",
      "----------\n",
      "z - 0.4724\n",
      "\n",
      "dt = 0.15\n",
      "\n"
     ]
    }
   ],
   "source": [
    "T = 0.15\n",
    "Gs = tf([1], [1, 5])\n",
    "Gz = c2d(Gs, T)\n",
    "print('Gz = \\n', Gz)"
   ]
  },
  {
   "cell_type": "code",
   "execution_count": 16,
   "id": "80ca2ef4",
   "metadata": {},
   "outputs": [
    {
     "data": {
      "text/plain": [
       "array([0.47236655+0.j])"
      ]
     },
     "execution_count": 16,
     "metadata": {},
     "output_type": "execute_result"
    }
   ],
   "source": [
    "control.pole(Gz)"
   ]
  },
  {
   "cell_type": "code",
   "execution_count": 17,
   "id": "ed58ae1c",
   "metadata": {},
   "outputs": [
    {
     "name": "stdout",
     "output_type": "stream",
     "text": [
      "4\n",
      "0.6\n"
     ]
    }
   ],
   "source": [
    "wn = 4\n",
    "print(wn)\n",
    "zeta = 0.6\n",
    "print(zeta)"
   ]
  },
  {
   "cell_type": "code",
   "execution_count": 18,
   "id": "e720c469",
   "metadata": {},
   "outputs": [
    {
     "name": "stdout",
     "output_type": "stream",
     "text": [
      "0.697676326071031\n"
     ]
    }
   ],
   "source": [
    "z_mod = np.e**(-0.15*4*0.6)\n",
    "print(z_mod)"
   ]
  },
  {
   "cell_type": "code",
   "execution_count": 19,
   "id": "3d2ec896",
   "metadata": {},
   "outputs": [
    {
     "name": "stdout",
     "output_type": "stream",
     "text": [
      "0.48\n"
     ]
    }
   ],
   "source": [
    "z_ang = T*wn*np.sqrt(1-zeta**2)\n",
    "print(z_ang)"
   ]
  },
  {
   "cell_type": "code",
   "execution_count": 36,
   "id": "7d0a70db",
   "metadata": {},
   "outputs": [
    {
     "name": "stdout",
     "output_type": "stream",
     "text": [
      "(-0.16144460142635328-0.13645807845527969j)\n"
     ]
    }
   ],
   "source": [
    "z1 = cmath.rect(z_mod,z_ang)\n",
    "G2 = tf([0.1055], [1], T) * tf([1],[1,-1], T)\n",
    "print(G2(z1))"
   ]
  },
  {
   "cell_type": "code",
   "execution_count": 37,
   "id": "0bb9abaa",
   "metadata": {},
   "outputs": [
    {
     "name": "stdout",
     "output_type": "stream",
     "text": [
      "-139.79444920289802\n",
      "-40.20555079710198\n"
     ]
    }
   ],
   "source": [
    "ang2 = cmath.phase(G2(z1))*180/np.pi\n",
    "print(ang2)\n",
    "ang1 = -180 -ang2\n",
    "print(ang1)"
   ]
  },
  {
   "cell_type": "code",
   "execution_count": 38,
   "id": "66226c97",
   "metadata": {},
   "outputs": [
    {
     "name": "stdout",
     "output_type": "stream",
     "text": [
      "(-1.0559531050951247-0j)\n"
     ]
    }
   ],
   "source": [
    "beta = (z1.imag - z1.real * cmath.tan(-ang1))/cmath.tan(-ang1)\n",
    "print(beta)"
   ]
  },
  {
   "cell_type": "code",
   "execution_count": 39,
   "id": "b53334cf",
   "metadata": {},
   "outputs": [
    {
     "name": "stdout",
     "output_type": "stream",
     "text": [
      "5.131478307906842\n"
     ]
    }
   ],
   "source": [
    "GHz = Gz\n",
    "alfa = -0.47\n",
    "Gc = tf([1, alfa], [1, beta], T)\n",
    "Kc = 1/abs(Gc(z1)*GHz(z1))\n",
    "print(Kc)"
   ]
  }
 ],
 "metadata": {
  "kernelspec": {
   "display_name": "Python 3 (ipykernel)",
   "language": "python",
   "name": "python3"
  },
  "language_info": {
   "codemirror_mode": {
    "name": "ipython",
    "version": 3
   },
   "file_extension": ".py",
   "mimetype": "text/x-python",
   "name": "python",
   "nbconvert_exporter": "python",
   "pygments_lexer": "ipython3",
   "version": "3.9.13"
  }
 },
 "nbformat": 4,
 "nbformat_minor": 5
}
