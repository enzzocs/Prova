{
 "cells": [
  {
   "cell_type": "markdown",
   "metadata": {},
   "source": [
    "## a)"
   ]
  },
  {
   "cell_type": "code",
   "execution_count": 27,
   "metadata": {},
   "outputs": [],
   "source": [
    "from numpy import linspace, zeros, ones, arange, e, sqrt, pi, abs\n",
    "from control import c2d, tf, pzmap\n",
    "import control\n",
    "import control.matlab\n",
    "from math import degrees, tan\n",
    "from cmath import phase, rect\n",
    "import matplotlib.pyplot as plt\n",
    "import sympy\n",
    "import numpy as np\n",
    "import cmath\n",
    "import math"
   ]
  },
  {
   "cell_type": "code",
   "execution_count": 28,
   "metadata": {},
   "outputs": [
    {
     "name": "stdout",
     "output_type": "stream",
     "text": [
      "Gs = \n",
      "s + 1\n",
      "-----\n",
      "s + 4\n",
      "\n",
      "Gz = \n",
      "z - 0.8623\n",
      "----------\n",
      "z - 0.4493\n",
      "\n",
      "dt = 0.2\n",
      "\n"
     ]
    }
   ],
   "source": [
    "T = 0.2\n",
    "Gs = tf([1,1],[1,4])\n",
    "print(\"Gs =\",Gs)\n",
    "\n",
    "Gz = c2d(Gs, T)\n",
    "print(\"Gz =\", Gz)\n",
    "\n"
   ]
  },
  {
   "cell_type": "code",
   "execution_count": 29,
   "metadata": {},
   "outputs": [
    {
     "name": "stdout",
     "output_type": "stream",
     "text": [
      "GHs = \n",
      "    1\n",
      "---------\n",
      "s^2 + 2 s\n",
      "\n",
      "GHz = \n",
      " 0.01758 z + 0.01539\n",
      "---------------------\n",
      "z^2 - 1.67 z + 0.6703\n",
      "\n",
      "dt = 0.2\n",
      "\n",
      "Polos de GHz = [1.         0.67032005]\n"
     ]
    }
   ],
   "source": [
    "GHs = tf(1, [1, 2, 0])\n",
    "print(\"GHs =\",GHs)\n",
    "\n",
    "GHz = c2d(GHs, T)\n",
    "print(\"GHz =\", GHz)\n",
    "\n",
    "Polos_GHz = control.pole(GHz)\n",
    "print(\"Polos de GHz =\", Polos_GHz)\n",
    "\n"
   ]
  },
  {
   "cell_type": "code",
   "execution_count": 30,
   "metadata": {},
   "outputs": [
    {
     "name": "stdout",
     "output_type": "stream",
     "text": [
      "Fs = \n",
      "5\n",
      "-\n",
      "s\n",
      "\n",
      "Fz = \n",
      "  1\n",
      "-----\n",
      "z - 1\n",
      "\n",
      "dt = 0.2\n",
      "\n"
     ]
    }
   ],
   "source": [
    "Fs = tf(5,[1,0])\n",
    "print(\"Fs =\",Fs)\n",
    "\n",
    "Fz = c2d(Fs, T)\n",
    "print(\"Fz =\", Fz)"
   ]
  },
  {
   "cell_type": "code",
   "execution_count": 31,
   "metadata": {},
   "outputs": [
    {
     "name": "stdout",
     "output_type": "stream",
     "text": [
      "z1 =  (0.4963235336169597-0.3695346207773863j)\n"
     ]
    }
   ],
   "source": [
    "zeta = 0.6\n",
    "wn = 4\n",
    "s1 = -1*(zeta * wn + 1j* wn *math.sqrt(1 - pow(zeta,2)))\n",
    "z1 = cmath.exp( s1*T )\n",
    "\n",
    "print(\"z1 = \", z1)"
   ]
  },
  {
   "cell_type": "code",
   "execution_count": 32,
   "metadata": {},
   "outputs": [
    {
     "name": "stdout",
     "output_type": "stream",
     "text": [
      "Z módulo = 0.6187833918061408\n",
      "Z angulo = 0.6400000000000001 radianos\n",
      "Z1 forma retangular = (0.4963235336169597+0.3695346207773863j)\n",
      "(-0.043106279349581354+0.08786986053881124j)\n"
     ]
    }
   ],
   "source": [
    "z_mod = np.exp(-T*zeta*wn)\n",
    "print(\"Z módulo =\", z_mod)\n",
    "\n",
    "z_ang = T*wn*np.sqrt(1-(zeta**2))\n",
    "print(\"Z angulo =\", z_ang ,\"radianos\")\n",
    "\n",
    "z_rect = cmath.rect(z_mod, z_ang)\n",
    "print(\"Z1 forma retangular =\",z_rect)\n",
    "\n",
    "alfa = -0.8607 # Não vai cancelar (z-1), pois este é o integrador que anula o erro ao degrau\n",
    "\n",
    "print(GHz(z_rect))"
   ]
  },
  {
   "cell_type": "code",
   "execution_count": 38,
   "metadata": {},
   "outputs": [
    {
     "name": "stdout",
     "output_type": "stream",
     "text": [
      "Beta =  -0.20071670596617677\n"
     ]
    }
   ],
   "source": [
    "alpha = -0.6703\n",
    "\n",
    "numGHz = GHz.num[0][0];\n",
    "denGHz = GHz.den[0][0];\n",
    "numGc = [1, alpha];\n",
    "\n",
    "phi2 = np.angle(np.polyval(numGHz,z1))+np.angle(np.polyval(numGc,z1))-np.angle(np.polyval(denGHz,z1));\n",
    "phiB = -np.pi-phi2;\n",
    "beta = (np.imag(z1)-np.real(z1)*np.tan(-phiB))/np.tan(-phiB);\n",
    "\n",
    "\n",
    "\n",
    "print(\"Beta = \", beta)\n",
    "\n"
   ]
  },
  {
   "cell_type": "code",
   "execution_count": 39,
   "metadata": {},
   "outputs": [
    {
     "name": "stdout",
     "output_type": "stream",
     "text": [
      "G1z =  \n",
      "    1\n",
      "----------\n",
      "z - 0.2007\n",
      "\n",
      "dt = 0.2\n",
      "\n",
      "G2z =  \n",
      "0.01758 z^2 + 0.003604 z - 0.01031\n",
      "----------------------------------\n",
      "      z^2 - 1.67 z + 0.6703\n",
      "\n",
      "dt = 0.2\n",
      "\n"
     ]
    }
   ],
   "source": [
    "G1 = tf(1, [1, beta], T)\n",
    "G2 = tf([1, alpha], 1, T)*GHz\n",
    "\n",
    "print(\"G1z = \", G1)\n",
    "print(\"G2z = \", G2)\n"
   ]
  },
  {
   "cell_type": "code",
   "execution_count": 40,
   "metadata": {},
   "outputs": [
    {
     "name": "stdout",
     "output_type": "stream",
     "text": [
      "FTMA =  \n",
      "0.01758 z^2 + 0.003604 z - 0.01031\n",
      "----------------------------------\n",
      "z^3 - 1.871 z^2 + 1.006 z - 0.1345\n",
      "\n",
      "dt = 0.2\n",
      "\n",
      "Kc =  11.837778860221176\n"
     ]
    }
   ],
   "source": [
    "FTMA = G1 * G2\n",
    "Kc = 1/np.abs(FTMA(z_rect))\n",
    "\n",
    "print(\"FTMA = \", FTMA)\n",
    "print(\"Kc = \", Kc)\n"
   ]
  },
  {
   "cell_type": "code",
   "execution_count": 41,
   "metadata": {},
   "outputs": [
    {
     "name": "stdout",
     "output_type": "stream",
     "text": [
      "Gc(z) =  \n",
      "11.84 z - 7.935\n",
      "---------------\n",
      "  z - 0.2007\n",
      "\n",
      "dt = 0.2\n",
      "\n"
     ]
    }
   ],
   "source": [
    "Gc = tf([Kc, Kc*alpha], [1, beta], T);\n",
    "\n",
    "print(\"Gc(z) = \", Gc)"
   ]
  },
  {
   "cell_type": "code",
   "execution_count": 42,
   "metadata": {},
   "outputs": [
    {
     "name": "stdout",
     "output_type": "stream",
     "text": [
      "2 states have been removed from the model\n",
      "FTMF =  \n",
      "     11.84 z^3 - 26.08 z^2 + 19 z - 4.587\n",
      "-----------------------------------------------\n",
      "z^4 - 2.112 z^3 + 1.795 z^2 - 0.7277 z + 0.1153\n",
      "\n",
      "dt = 0.2\n",
      "\n",
      "Pólos resultantes da FTMF = \n",
      " [0.49632353+0.36953462j 0.49632353-0.36953462j 0.6702814 +0.j\n",
      " 0.44932896+0.j        ]\n"
     ]
    }
   ],
   "source": [
    "FTMF = control.minreal(Fz*(Gc*Gz)/(1+Gc*GHz));\n",
    "\n",
    "print(\"FTMF = \", FTMF)\n",
    "\n",
    "print(\"Pólos resultantes da FTMF = \\n\", FTMF.pole());"
   ]
  },
  {
   "cell_type": "markdown",
   "metadata": {},
   "source": [
    "## b)"
   ]
  },
  {
   "cell_type": "code",
   "execution_count": 33,
   "metadata": {},
   "outputs": [
    {
     "data": {
      "image/png": "[encoded data removed]",
      "text/plain": [
       "<Figure size 432x288 with 1 Axes>"
      ]
     },
     "metadata": {
      "needs_background": "light"
     },
     "output_type": "display_data"
    }
   ],
   "source": [
    "tfinal = 5;\n",
    "Kmax = int(tfinal/T+1);\n",
    "k = np.linspace(0, tfinal, Kmax);\n",
    "r = np.heaviside(1,k);\n",
    "x = np.zeros_like(k);\n",
    "\n",
    "for i in range(1, Kmax):\n",
    "    x[i] = x[i-1] + 0.2*r[i-1]; # Equação recursiva\n",
    "\n",
    "plt.plot(k, x, 'b*', markersize=20);\n",
    "#plt.xticks(np.arange(min(k), max(k)+1, T));\n",
    "plt.title(\"Resposta de x(kT) para uma entrada do tipo degrau unitário\");\n",
    "plt.xlabel(\"$kT$\");\n",
    "plt.ylabel(\"$x \\, (kT)$\");\n",
    "plt.grid();\n",
    "plt.tight_layout();\n",
    "plt.show();"
   ]
  },
  {
   "cell_type": "markdown",
   "metadata": {},
   "source": [
    "## c)"
   ]
  },
  {
   "cell_type": "code",
   "execution_count": 35,
   "metadata": {},
   "outputs": [
    {
     "name": "stdout",
     "output_type": "stream",
     "text": [
      "Erro em regime permanente do sistema à entrada de um degrau unitário =\n",
      " 0.3106523323074436\n"
     ]
    }
   ],
   "source": [
    "Ez = control.minreal(Fz/(1+Gc*GHz), verbose=False);\n",
    "numEz = Ez.num[0][0];\n",
    "denEz = Ez.den[0][0];\n",
    "ess = (np.polyval(numEz, 1)/np.polyval(denEz, 1))  #  substituindo 1 em aux\n",
    "print(\"Erro em regime permanente do sistema à entrada de um degrau unitário =\\n\",ess);"
   ]
  },
  {
   "cell_type": "markdown",
   "metadata": {},
   "source": [
    "## d)"
   ]
  },
  {
   "cell_type": "code",
   "execution_count": 9,
   "metadata": {},
   "outputs": [
    {
     "data": {
      "text/plain": [
       "[<matplotlib.lines.Line2D at 0x1f521fbf908>]"
      ]
     },
     "execution_count": 9,
     "metadata": {},
     "output_type": "execute_result"
    },
    {
     "data": {
      "image/png": "[encoded data removed]",
      "text/plain": [
       "<Figure size 432x288 with 1 Axes>"
      ]
     },
     "metadata": {
      "needs_background": "light"
     },
     "output_type": "display_data"
    }
   ],
   "source": [
    "#Equacoes recursivas \n",
    "\n",
    "#G\n",
    "#c[k] = e[k] - 0.7838e[k-1] + 0.1353c[k-1]\n",
    "\n",
    "#GH\n",
    "#v[k] = 0.5742e[k-1] - 0.3581e[k-2] + 1.135v[k-1] - 0.1353v[k-2]\n",
    "\n",
    "#F\n",
    "#x[k] =  2.5r[k-1] + x[k-1]\n",
    "\n",
    "#e = x - v\n",
    "\n",
    "kmax = 25\n",
    "\n",
    "# Para entrada degrau unitario: np.ones(kmax)\n",
    "# Para entrada rampa unitario: Tarange(0,kmax) \n",
    "t = T*arange(0,kmax)\n",
    "r = np.ones(kmax)\n",
    "\n",
    "c = np.zeros(kmax)\n",
    "v = np.zeros(kmax)\n",
    "x = np.zeros(kmax)\n",
    "e = np.zeros(kmax)\n",
    "\n",
    "k = 1\n",
    "\n",
    "v[k] = 0.5742*e[k-1] + 1.135*v[k-1] \n",
    "x[k] = 2.5*r[k-1] + x[k-1]\n",
    "e[k] = x[k] - v[k]\n",
    "c[k] = e[k] - 0.7838*e[k-1] + 0.1353*c[k-1]\n",
    "\n",
    "\n",
    "for k in range(2, kmax):\n",
    "    v[k] = 0.5742*e[k-1] - 0.3581*e[k-2] + 1.135*v[k-1] - 0.1353*v[k-2]\n",
    "    x[k] = 2.5*r[k-1] + x[k-1]\n",
    "    e[k] = x[k] - v[k]\n",
    "    c[k] = e[k] - 0.7838*e[k-1] + 0.1353*c[k-1]\n",
    "\n",
    "\n",
    "\n",
    "# para mostrar por steps\n",
    "plt.plot(t,c, ds='steps-post')\n",
    "\n",
    "#para mostrar em tempo continuo\n",
    "#plt.plot(t,c)"
   ]
  }
 ],
 "metadata": {
  "kernelspec": {
   "display_name": "Python 3",
   "language": "python",
   "name": "python3"
  },
  "language_info": {
   "codemirror_mode": {
    "name": "ipython",
    "version": 3
   },
   "file_extension": ".py",
   "mimetype": "text/x-python",
   "name": "python",
   "nbconvert_exporter": "python",
   "pygments_lexer": "ipython3",
   "version": "3.7.4"
  }
 },
 "nbformat": 4,
 "nbformat_minor": 2
}
