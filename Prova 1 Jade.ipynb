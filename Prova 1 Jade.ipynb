{
 "cells": [
  {
   "cell_type": "code",
   "execution_count": 2,
   "metadata": {},
   "outputs": [],
   "source": [
    "from numpy import linspace, arange, zeros\n",
    "from control import c2d, tf\n",
    "import matplotlib.pyplot as plt\n",
    "import numpy as np\n",
    "import cmath\n",
    "import math\n",
    "import control\n",
    "import control.matlab\n",
    "from sympy import *"
   ]
  },
  {
   "cell_type": "code",
   "execution_count": 3,
   "metadata": {},
   "outputs": [
    {
     "name": "stdout",
     "output_type": "stream",
     "text": [
      "Gz = \n",
      " \n",
      " 0.01758 z + 0.01539\n",
      "---------------------\n",
      "z^2 - 1.67 z + 0.6703\n",
      "\n",
      "dt = 0.2\n",
      "\n"
     ]
    }
   ],
   "source": [
    "T = 0.2\n",
    "Gs = tf([1], [1, 2, 0])\n",
    "Gz = c2d(Gs, T)\n",
    "print('Gz = \\n', Gz)"
   ]
  },
  {
   "cell_type": "code",
   "execution_count": 4,
   "metadata": {},
   "outputs": [
    {
     "data": {
      "text/plain": [
       "array([1.        , 0.67032005])"
      ]
     },
     "execution_count": 4,
     "metadata": {},
     "output_type": "execute_result"
    }
   ],
   "source": [
    "control.pole(Gz)"
   ]
  },
  {
   "cell_type": "code",
   "execution_count": 5,
   "metadata": {},
   "outputs": [
    {
     "name": "stdout",
     "output_type": "stream",
     "text": [
      "4\n",
      "0.6\n"
     ]
    }
   ],
   "source": [
    "wn = 4\n",
    "print(wn)\n",
    "zeta = 0.6\n",
    "print(zeta)"
   ]
  },
  {
   "cell_type": "code",
   "execution_count": 6,
   "metadata": {},
   "outputs": [
    {
     "name": "stdout",
     "output_type": "stream",
     "text": [
      "0.6187833918061408\n"
     ]
    }
   ],
   "source": [
    "z_mod = np.e**(-T*zeta*wn)\n",
    "print(z_mod)"
   ]
  },
  {
   "cell_type": "code",
   "execution_count": 7,
   "metadata": {},
   "outputs": [
    {
     "name": "stdout",
     "output_type": "stream",
     "text": [
      "0.6400000000000001\n"
     ]
    }
   ],
   "source": [
    "z_ang = T*wn*np.sqrt(1-zeta**2)\n",
    "print(z_ang)"
   ]
  },
  {
   "cell_type": "code",
   "execution_count": 8,
   "metadata": {},
   "outputs": [
    {
     "name": "stdout",
     "output_type": "stream",
     "text": [
      "(-0.02800184887008662-0.025039299234806123j)\n"
     ]
    }
   ],
   "source": [
    "z1 = cmath.rect(z_mod,z_ang)\n",
    "G2 = tf([1, -0.6], [1], T) * Gz\n",
    "print(G2(z1))"
   ]
  },
  {
   "cell_type": "code",
   "execution_count": 9,
   "metadata": {},
   "outputs": [
    {
     "name": "stdout",
     "output_type": "stream",
     "text": [
      "-138.19686536095858\n",
      "-41.80313463904142\n"
     ]
    }
   ],
   "source": [
    "ang2 = cmath.phase(G2(z1))*180/np.pi\n",
    "print(ang2)\n",
    "ang1 = -180 -ang2\n",
    "print(ang1)"
   ]
  },
  {
   "cell_type": "code",
   "execution_count": 10,
   "metadata": {},
   "outputs": [
    {
     "name": "stdout",
     "output_type": "stream",
     "text": [
      "(-0.23894646914507717+0j)\n"
     ]
    }
   ],
   "source": [
    "beta = (z1.imag - z1.real * cmath.tan(-ang1))/cmath.tan(-ang1)\n",
    "print(beta)"
   ]
  },
  {
   "cell_type": "code",
   "execution_count": 11,
   "metadata": {},
   "outputs": [
    {
     "name": "stdout",
     "output_type": "stream",
     "text": [
      "11.988321810494357\n"
     ]
    }
   ],
   "source": [
    "GHz = Gz\n",
    "alfa = -0.6\n",
    "Gc = tf([1, alfa], [1, beta], T)\n",
    "Kc = 1/abs(Gc(z1)*GHz(z1))\n",
    "print(Kc)"
   ]
  },
  {
   "cell_type": "code",
   "execution_count": 12,
   "metadata": {},
   "outputs": [
    {
     "ename": "TypeError",
     "evalue": "c2d() missing 2 required positional arguments: 'sysc' and 'Ts'",
     "output_type": "error",
     "traceback": [
      "\u001b[1;31m---------------------------------------------------------------------------\u001b[0m",
      "\u001b[1;31mTypeError\u001b[0m                                 Traceback (most recent call last)",
      "\u001b[1;32m<ipython-input-12-8fd737e60f3d>\u001b[0m in \u001b[0;36m<module>\u001b[1;34m\u001b[0m\n\u001b[1;32m----> 1\u001b[1;33m \u001b[0mcontrol\u001b[0m\u001b[1;33m.\u001b[0m\u001b[0mc2d\u001b[0m\u001b[1;33m(\u001b[0m\u001b[1;33m)\u001b[0m\u001b[1;33m\u001b[0m\u001b[1;33m\u001b[0m\u001b[0m\n\u001b[0m",
      "\u001b[1;31mTypeError\u001b[0m: c2d() missing 2 required positional arguments: 'sysc' and 'Ts'"
     ]
    }
   ],
   "source": [
    "control.c2d()"
   ]
  }
 ],
 "metadata": {
  "kernelspec": {
   "display_name": "Python 3",
   "language": "python",
   "name": "python3"
  },
  "language_info": {
   "codemirror_mode": {
    "name": "ipython",
    "version": 3
   },
   "file_extension": ".py",
   "mimetype": "text/x-python",
   "name": "python",
   "nbconvert_exporter": "python",
   "pygments_lexer": "ipython3",
   "version": "3.7.4"
  }
 },
 "nbformat": 4,
 "nbformat_minor": 2
}
